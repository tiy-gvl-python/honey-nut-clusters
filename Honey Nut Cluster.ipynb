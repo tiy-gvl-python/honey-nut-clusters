{
 "cells": [
  {
   "cell_type": "code",
   "execution_count": 613,
   "metadata": {
    "collapsed": true
   },
   "outputs": [],
   "source": [
    "import pandas as pd\n",
    "import matplotlib.pyplot as plt\n",
    "import numpy as np\n",
    "from sklearn import linear_model\n",
    "from sklearn.cross_validation import train_test_split\n",
    "from sklearn.cluster import KMeans\n",
    "from sklearn.feature_extraction.text import CountVectorizer\n",
    "from sklearn import preprocessing\n",
    "from sklearn.decomposition import PCA\n",
    "%matplotlib inline\n"
   ]
  },
  {
   "cell_type": "code",
   "execution_count": 682,
   "metadata": {
    "collapsed": false
   },
   "outputs": [],
   "source": [
    "cereal = pd.read_csv('cereals.csv')\n",
    "\n",
    "new_cereal = cereal.set_index('name')\n",
    "mfr_type = new_cereal[['mfr', 'type']]\n",
    "\n",
    "#Set my index to the column 'name' to make it easier to access certain rows. "
   ]
  },
  {
   "cell_type": "markdown",
   "metadata": {},
   "source": [
    "###Data Clean"
   ]
  },
  {
   "cell_type": "markdown",
   "metadata": {},
   "source": [
    "basic_4 = new_cereal.ix[['Basic_4']]\n",
    "basic_4_nums = basic_4[['calories', 'protein', 'fat', 'sodium','fiber',\n",
    "         'carbo','sugars','potass','vitamins','shelf','weight','cups']]\n",
    "new_basic_4 = basic_4_nums.apply(lambda x: x/ basic_4['weight'])\n"
   ]
  },
  {
   "cell_type": "markdown",
   "metadata": {},
   "source": [
    "After doing things the hard way(6 times), I finally created a function that makes each cereal have a weight of 1. We needed to make sure the data was unified with the same weight size so the data would be represented correctly."
   ]
  },
  {
   "cell_type": "code",
   "execution_count": 597,
   "metadata": {
    "collapsed": false
   },
   "outputs": [],
   "source": [
    "def function(new_cereal):\n",
    "    category = new_cereal[['calories', 'protein', 'fat', 'sodium','fiber',\n",
    "                           'carbo','sugars','potass','vitamins','shelf','weight','cups']]\n",
    "    return category.apply(lambda x: x / new_cereal['weight'])\n",
    "\n",
    "cereal_by_weight = function(new_cereal)\n",
    "\n",
    "main_cereal = cereal_by_weight.merge(mfr_type, left_index=True, right_index=True)"
   ]
  },
  {
   "cell_type": "markdown",
   "metadata": {},
   "source": [
    "##Merged the 'mfr' and 'type' columns back to the updated dataset."
   ]
  },
  {
   "cell_type": "markdown",
   "metadata": {},
   "source": [
    "Now, I split the data to figure out the best predictor for potassium. There are two -1's in th potass column."
   ]
  },
  {
   "cell_type": "code",
   "execution_count": 598,
   "metadata": {
    "collapsed": true
   },
   "outputs": [],
   "source": [
    "train, test = train_test_split(main_cereal, test_size=.33)"
   ]
  },
  {
   "cell_type": "code",
   "execution_count": 599,
   "metadata": {
    "collapsed": false
   },
   "outputs": [],
   "source": [
    "train1 = train[['fiber','potass']]\n",
    "train_input = train1[['fiber']]\n",
    "train_output = train1[['potass']]"
   ]
  },
  {
   "cell_type": "code",
   "execution_count": 600,
   "metadata": {
    "collapsed": false
   },
   "outputs": [],
   "source": [
    "test1 = test[['fiber','potass']]\n",
    "test_input = test1[['fiber']]\n",
    "test_output = test1[['potass']]"
   ]
  },
  {
   "cell_type": "code",
   "execution_count": 684,
   "metadata": {
    "collapsed": false
   },
   "outputs": [
    {
     "name": "stdout",
     "output_type": "stream",
     "text": [
      "Coefficients:  [[ 28.23497711]]\n",
      "0.723879102541\n"
     ]
    }
   ],
   "source": [
    "regr = linear_model.LinearRegression()\n",
    "regr.fit(train_input, train_output)\n",
    "print('Coefficients: ',regr.coef_)\n",
    "print(regr.score(test_input, test_output))"
   ]
  },
  {
   "cell_type": "markdown",
   "metadata": {},
   "source": [
    "Fiber is the best predictor for potassium."
   ]
  },
  {
   "cell_type": "code",
   "execution_count": 685,
   "metadata": {
    "collapsed": false
   },
   "outputs": [
    {
     "data": {
      "image/png": "[encoded data removed]",
      "text/plain": [
       "<matplotlib.figure.Figure at 0x1141822b0>"
      ]
     },
     "metadata": {},
     "output_type": "display_data"
    }
   ],
   "source": [
    "plt.scatter(train_input, train_output, color='blue')\n",
    "plt.plot(test_input, regr.predict(test_input), color='red', linewidth=3)\n",
    "plt.show()"
   ]
  },
  {
   "cell_type": "code",
   "execution_count": 603,
   "metadata": {
    "collapsed": false
   },
   "outputs": [
    {
     "name": "stderr",
     "output_type": "stream",
     "text": [
      "/Users/pnitto/iron_yard/honey-nut-clusters/.direnv/python-3.4.3/lib/python3.4/site-packages/IPython/kernel/__main__.py:3: SettingWithCopyWarning: \n",
      "A value is trying to be set on a copy of a slice from a DataFrame\n",
      "\n",
      "See the the caveats in the documentation: http://pandas.pydata.org/pandas-docs/stable/indexing.html#indexing-view-versus-copy\n",
      "  app.launch_new_instance()\n"
     ]
    },
    {
     "data": {
      "text/plain": [
       "array([ 65.22686166])"
      ]
     },
     "execution_count": 603,
     "metadata": {},
     "output_type": "execute_result"
    }
   ],
   "source": [
    "potass_Al = regr.predict(1)[0]\n",
    "\n",
    "main_cereal['potass'][main_cereal.potass == -1] = potass_Al\n",
    "potass_Al\n",
    "#potass_Cream = regr.predict(1)[0]\n",
    "#potass_Cream\n"
   ]
  },
  {
   "cell_type": "markdown",
   "metadata": {},
   "source": [
    "Filling in Almond_Delights potass column."
   ]
  },
  {
   "cell_type": "markdown",
   "metadata": {},
   "source": [
    "The Almond_Delights and Cream_of_wheat(Quick) have an estimated potassium amount of 65.22 for a fiber count of 1. I set the -1 in the potass column for Almond_Delights and Cream_of_wheat(Quick) to approximately 65.22."
   ]
  },
  {
   "cell_type": "code",
   "execution_count": 604,
   "metadata": {
    "collapsed": true
   },
   "outputs": [],
   "source": [
    "train2 = train[['shelf','sugars','calories','protein','cups','vitamins','potass','fat','fiber']]\n",
    "train_input1 = train2[['shelf','calories','protein','cups','vitamins','potass','fat','fiber']]\n",
    "train_output1 = train2[['sugars']]\n",
    "\n",
    "test2 = test[['shelf','sugars','calories','protein','cups','vitamins','potass','fat','fiber']]\n",
    "test_input1 = test2[['shelf','calories','protein','cups','vitamins','potass','fat','fiber']]\n",
    "test_output1 = test2[['sugars']]"
   ]
  },
  {
   "cell_type": "code",
   "execution_count": 605,
   "metadata": {
    "collapsed": false
   },
   "outputs": [
    {
     "name": "stdout",
     "output_type": "stream",
     "text": [
      "Coefficients:  [[-0.55547426  0.10561195 -1.86624929 -2.54310705  0.00714299  0.02748262\n",
      "   0.10868757 -0.41524754]]\n",
      "0.581083148946\n"
     ]
    }
   ],
   "source": [
    "regr1 = linear_model.LinearRegression()\n",
    "regr1.fit(train_input1, train_output1)\n",
    "print('Coefficients: ',regr1.coef_)\n",
    "print(regr1.score(test_input1, test_output1))"
   ]
  },
  {
   "cell_type": "markdown",
   "metadata": {},
   "source": [
    "I could not find a predictor that shows a strong correlation to predict sugar or carbs for Quaker Oatmeal. Therefore, I am going to drop the Quaker_Oatmeal row because it is missing both a sugar and carbs amount. "
   ]
  },
  {
   "cell_type": "code",
   "execution_count": null,
   "metadata": {
    "collapsed": false
   },
   "outputs": [],
   "source": [
    "main_cereal = main_cereal[main_cereal.carbo != -1]\n"
   ]
  },
  {
   "cell_type": "markdown",
   "metadata": {},
   "source": [
    "I dropped the Quaker_Oatmeal row because it contained two -1 values."
   ]
  },
  {
   "cell_type": "code",
   "execution_count": 606,
   "metadata": {
    "collapsed": false
   },
   "outputs": [],
   "source": [
    "\n",
    "def get_series(mfr):\n",
    "    values = np.unique(mfr)\n",
    "    values2nums = dict(zip(values,range(len(values))))\n",
    "    return mfr.replace(values2nums)\n",
    "new_mfr = get_series(mfr)\n",
    "df_mfr = new_mfr.to_frame()\n",
    "main_cereal = df_mfr.merge(main_cereal, left_index=True, right_index=True)\n"
   ]
  },
  {
   "cell_type": "markdown",
   "metadata": {},
   "source": [
    "This function converts the letters in the mfr column to integers."
   ]
  },
  {
   "cell_type": "code",
   "execution_count": null,
   "metadata": {
    "collapsed": false
   },
   "outputs": [],
   "source": [
    "type1 = new_main_cereal.type1\n",
    "\n",
    "def get_series(type1):\n",
    "    values = np.unique(type1)\n",
    "    value2nums = dict(zip(values,range(len(values))))\n",
    "    return type1.replace(value2nums)\n",
    "new_type = get_series(type1)\n",
    "df_type = new_type.to_frame()\n",
    "new_main_cereal = df_type.merge(new_main_cereal, left_index=True, right_index=True)"
   ]
  },
  {
   "cell_type": "markdown",
   "metadata": {},
   "source": [
    "This function converts the letters in the type column to integers. Then, I merge the new data set back to the original."
   ]
  },
  {
   "cell_type": "markdown",
   "metadata": {},
   "source": [
    "I needed to drop the previous mfr and type columns, and I also renamed the new columns. "
   ]
  },
  {
   "cell_type": "code",
   "execution_count": null,
   "metadata": {
    "collapsed": false
   },
   "outputs": [],
   "source": [
    "main_cereal.rename(columns= {'type': 'type1'}, inplace=True)\n",
    "new_main_cereal = main_cereal.drop(['mfr_y'], axis=1)\n",
    "new_main_cereal.rename(columns={'mfr_x':'mfr'}, inplace=True)\n",
    "cereal_nums = new_main_cereal.drop(['type1_y'], axis=1)\n",
    "nums_cereal = cereal_nums.rename(columns={'type1_x':'type_int'})\n"
   ]
  },
  {
   "cell_type": "markdown",
   "metadata": {},
   "source": [
    "I believe doing preprocessing.scale normalizes the data. "
   ]
  },
  {
   "cell_type": "code",
   "execution_count": 611,
   "metadata": {
    "collapsed": false
   },
   "outputs": [],
   "source": [
    "\n",
    "nums_cereal_scaled = preprocessing.scale(nums_cereal)"
   ]
  },
  {
   "cell_type": "code",
   "execution_count": 612,
   "metadata": {
    "collapsed": false
   },
   "outputs": [
    {
     "data": {
      "text/plain": [
       "array([[-0.16439899,  0.17705408, -2.45948213, ...,  0.80629613,\n",
       "         0.        , -1.57732763],\n",
       "       [-0.16439899,  1.34715063,  1.15214517, ...,  0.80629613,\n",
       "         0.        ,  0.54521874],\n",
       "       [-0.16439899, -0.40799419, -2.45948213, ...,  0.80629613,\n",
       "         0.        , -1.57732763],\n",
       "       ..., \n",
       "       [-0.16439899,  1.9321989 , -0.29250575, ..., -1.23084854,\n",
       "         0.        , -0.50021455],\n",
       "       [-0.16439899, -0.99304246, -0.29250575, ..., -1.23084854,\n",
       "         0.        ,  0.54521874],\n",
       "       [-0.16439899, -0.99304246,  0.42981971, ..., -1.23084854,\n",
       "         0.        , -0.24677617]])"
      ]
     },
     "execution_count": 612,
     "metadata": {},
     "output_type": "execute_result"
    }
   ],
   "source": [
    "nums_cereal_scaled"
   ]
  },
  {
   "cell_type": "code",
   "execution_count": null,
   "metadata": {
    "collapsed": false
   },
   "outputs": [],
   "source": [
    "pca = PCA(n_components=2)\n",
    "pca.fit(nums_cereal_scaled)\n",
    "reduced_cereal = pca.transform(nums_cereal_scaled)\n"
   ]
  },
  {
   "cell_type": "code",
   "execution_count": 622,
   "metadata": {
    "collapsed": false
   },
   "outputs": [
    {
     "data": {
      "image/png": "[encoded data removed]",
      "text/plain": [
       "<matplotlib.figure.Figure at 0x111302e80>"
      ]
     },
     "metadata": {},
     "output_type": "display_data"
    }
   ],
   "source": [
    "plt.scatter(reduced_cereal[:, 0], reduced_cereal[:,1])\n",
    "plt.title(\"Scaled Cereal Data Plot\")\n",
    "plt.show()"
   ]
  },
  {
   "cell_type": "markdown",
   "metadata": {},
   "source": [
    "I can see roughly six different clusters."
   ]
  },
  {
   "cell_type": "markdown",
   "metadata": {},
   "source": [
    "I will first look at 3 clusters."
   ]
  },
  {
   "cell_type": "code",
   "execution_count": 618,
   "metadata": {
    "collapsed": true
   },
   "outputs": [],
   "source": [
    "kmeans = KMeans(3)\n",
    "y_pred = kmeans.fit_predict(reduced_cereal)"
   ]
  },
  {
   "cell_type": "code",
   "execution_count": 619,
   "metadata": {
    "collapsed": false
   },
   "outputs": [
    {
     "data": {
      "text/plain": [
       "array([2, 0, 2, 2, 0, 0, 0, 0, 0, 1, 0, 1, 0, 0, 0, 1, 1, 0, 0, 0, 1, 1, 0,\n",
       "       1, 0, 0, 1, 0, 0, 0, 0, 0, 1, 1, 0, 0, 0, 0, 0, 0, 1, 0, 0, 1, 0, 0,\n",
       "       0, 0, 0, 0, 1, 0, 0, 1, 1, 1, 1, 0, 0, 1, 1, 1, 1, 1, 1, 0, 1, 1, 1,\n",
       "       0, 1, 1, 0, 1, 1, 0], dtype=int32)"
      ]
     },
     "execution_count": 619,
     "metadata": {},
     "output_type": "execute_result"
    }
   ],
   "source": [
    "y_pred"
   ]
  },
  {
   "cell_type": "code",
   "execution_count": 620,
   "metadata": {
    "collapsed": false
   },
   "outputs": [
    {
     "data": {
      "text/plain": [
       "[(array([-6.01441343, -0.57480438]), 2),\n",
       " (array([-0.91495783, -1.88413618]), 0),\n",
       " (array([-5.78849025, -0.45663998]), 2),\n",
       " (array([-7.62865497,  1.4066216 ]), 2),\n",
       " (array([ 0.59593805, -0.67278571]), 0),\n",
       " (array([ 0.49778462, -1.96714166]), 0),\n",
       " (array([ 1.1857631 , -1.15712659]), 0),\n",
       " (array([-0.2306841 , -0.59177814]), 0),\n",
       " (array([-0.91467557, -0.02321046]), 0),\n",
       " (array([-2.30602062,  0.65133166]), 1)]"
      ]
     },
     "execution_count": 620,
     "metadata": {},
     "output_type": "execute_result"
    }
   ],
   "source": [
    "list(zip(reduced_cereal, y_pred))[:10]"
   ]
  },
  {
   "cell_type": "code",
   "execution_count": 621,
   "metadata": {
    "collapsed": false
   },
   "outputs": [
    {
     "data": {
      "image/png": "[encoded data removed]",
      "text/plain": [
       "<matplotlib.figure.Figure at 0x113795860>"
      ]
     },
     "metadata": {},
     "output_type": "display_data"
    }
   ],
   "source": [
    "plt.scatter(reduced_cereal[:, 0], reduced_cereal[:, 1], c=y_pred, cmap=\"hot\")\n",
    "plt.title(\"Cereal Data with 3 Clusters\")\n",
    "plt.show()"
   ]
  },
  {
   "cell_type": "markdown",
   "metadata": {},
   "source": [
    "This analysis is for 4 clusters of the cereal data set."
   ]
  },
  {
   "cell_type": "code",
   "execution_count": 623,
   "metadata": {
    "collapsed": true
   },
   "outputs": [],
   "source": [
    "kmeans1 = KMeans(4)\n",
    "y_pred1 = kmeans1.fit_predict(reduced_cereal)"
   ]
  },
  {
   "cell_type": "code",
   "execution_count": 625,
   "metadata": {
    "collapsed": false
   },
   "outputs": [
    {
     "data": {
      "text/plain": [
       "[(array([-6.01441343, -0.57480438]), 2),\n",
       " (array([-0.91495783, -1.88413618]), 0),\n",
       " (array([-5.78849025, -0.45663998]), 2),\n",
       " (array([-7.62865497,  1.4066216 ]), 2),\n",
       " (array([ 0.59593805, -0.67278571]), 1),\n",
       " (array([ 0.49778462, -1.96714166]), 1),\n",
       " (array([ 1.1857631 , -1.15712659]), 1),\n",
       " (array([-0.2306841 , -0.59177814]), 0),\n",
       " (array([-0.91467557, -0.02321046]), 0),\n",
       " (array([-2.30602062,  0.65133166]), 0)]"
      ]
     },
     "execution_count": 625,
     "metadata": {},
     "output_type": "execute_result"
    }
   ],
   "source": [
    "list(zip(reduced_cereal, y_pred1))[:10]"
   ]
  },
  {
   "cell_type": "code",
   "execution_count": 626,
   "metadata": {
    "collapsed": false
   },
   "outputs": [
    {
     "data": {
      "image/png": "[encoded data removed]",
      "text/plain": [
       "<matplotlib.figure.Figure at 0x113d00b00>"
      ]
     },
     "metadata": {},
     "output_type": "display_data"
    }
   ],
   "source": [
    "plt.scatter(reduced_cereal[:, 0], reduced_cereal[:, 1], c=y_pred1, cmap=\"hot\")\n",
    "plt.title(\"Cereal Data with 4 Clusters\")\n",
    "plt.show()"
   ]
  },
  {
   "cell_type": "code",
   "execution_count": 627,
   "metadata": {
    "collapsed": true
   },
   "outputs": [],
   "source": [
    "kmeans2 = KMeans(5)\n",
    "y_pred2 = kmeans2.fit_predict(reduced_cereal)"
   ]
  },
  {
   "cell_type": "code",
   "execution_count": 628,
   "metadata": {
    "collapsed": false
   },
   "outputs": [
    {
     "data": {
      "text/plain": [
       "[(array([-6.01441343, -0.57480438]), 2),\n",
       " (array([-0.91495783, -1.88413618]), 1),\n",
       " (array([-5.78849025, -0.45663998]), 2),\n",
       " (array([-7.62865497,  1.4066216 ]), 2),\n",
       " (array([ 0.59593805, -0.67278571]), 3),\n",
       " (array([ 0.49778462, -1.96714166]), 3),\n",
       " (array([ 1.1857631 , -1.15712659]), 3),\n",
       " (array([-0.2306841 , -0.59177814]), 1),\n",
       " (array([-0.91467557, -0.02321046]), 1),\n",
       " (array([-2.30602062,  0.65133166]), 4)]"
      ]
     },
     "execution_count": 628,
     "metadata": {},
     "output_type": "execute_result"
    }
   ],
   "source": [
    "list(zip(reduced_cereal, y_pred2))[:10]"
   ]
  },
  {
   "cell_type": "code",
   "execution_count": 629,
   "metadata": {
    "collapsed": false
   },
   "outputs": [
    {
     "data": {
      "image/png": "[encoded data removed]",
      "text/plain": [
       "<matplotlib.figure.Figure at 0x113dc3630>"
      ]
     },
     "metadata": {},
     "output_type": "display_data"
    }
   ],
   "source": [
    "plt.scatter(reduced_cereal[:, 0], reduced_cereal[:, 1], c=y_pred2, cmap=\"hot\")\n",
    "plt.title(\"Cereal Data with 5 Clusters\")\n",
    "plt.show()"
   ]
  },
  {
   "cell_type": "code",
   "execution_count": 679,
   "metadata": {
    "collapsed": true
   },
   "outputs": [],
   "source": [
    "kmeans3 = KMeans(7)\n",
    "y_pred3 = kmeans3.fit_predict(reduced_cereal)"
   ]
  },
  {
   "cell_type": "code",
   "execution_count": 680,
   "metadata": {
    "collapsed": false
   },
   "outputs": [
    {
     "data": {
      "text/plain": [
       "[(array([-6.01441343, -0.57480438]), 5),\n",
       " (array([-0.91495783, -1.88413618]), 6),\n",
       " (array([-5.78849025, -0.45663998]), 5),\n",
       " (array([-7.62865497,  1.4066216 ]), 5),\n",
       " (array([ 0.59593805, -0.67278571]), 1),\n",
       " (array([ 0.49778462, -1.96714166]), 2),\n",
       " (array([ 1.1857631 , -1.15712659]), 2),\n",
       " (array([-0.2306841 , -0.59177814]), 1),\n",
       " (array([-0.91467557, -0.02321046]), 1),\n",
       " (array([-2.30602062,  0.65133166]), 0)]"
      ]
     },
     "execution_count": 680,
     "metadata": {},
     "output_type": "execute_result"
    }
   ],
   "source": [
    "list(zip(reduced_cereal, y_pred3))[:10]"
   ]
  },
  {
   "cell_type": "code",
   "execution_count": 681,
   "metadata": {
    "collapsed": false
   },
   "outputs": [
    {
     "data": {
      "image/png": "[encoded data removed]",
      "text/plain": [
       "<matplotlib.figure.Figure at 0x11428bb38>"
      ]
     },
     "metadata": {},
     "output_type": "display_data"
    }
   ],
   "source": [
    "plt.scatter(reduced_cereal[:, 0], reduced_cereal[:, 1], c=y_pred3, cmap=\"hot\")\n",
    "plt.scatter(kmeans3.cluster_centers_[:,0], kmeans3.cluster_centers_[:,1], alpha=.5, s=250)\n",
    "plt.title(\"Cereal Data with 7 Clusters with Cluster Centers\")\n",
    "plt.show()"
   ]
  },
  {
   "cell_type": "markdown",
   "metadata": {},
   "source": [
    "I think 7 clusters is an accurate way to group this data."
   ]
  },
  {
   "cell_type": "code",
   "execution_count": 690,
   "metadata": {
    "collapsed": false
   },
   "outputs": [
    {
     "name": "stdout",
     "output_type": "stream",
     "text": [
      "[[-0.64509376  1.19774594]\n",
      " [-0.1983638  -0.7536358 ]\n",
      " [ 1.42191719 -1.37613438]\n",
      " [ 0.73823771  4.44115807]\n",
      " [ 1.84949803  1.24378174]\n",
      " [-6.47718622  0.12505908]\n",
      " [-1.54508673 -1.22204906]]\n"
     ]
    }
   ],
   "source": [
    "print(kmeans3.cluster_centers_)\n"
   ]
  },
  {
   "cell_type": "code",
   "execution_count": 691,
   "metadata": {
    "collapsed": true
   },
   "outputs": [],
   "source": [
    "classified_data = kmeans3.labels_\n",
    "processed_data = nums_cereal.copy()"
   ]
  },
  {
   "cell_type": "code",
   "execution_count": 704,
   "metadata": {
    "collapsed": true
   },
   "outputs": [],
   "source": [
    "processed_data['Cluster_Class'] = pd.Series(classified_data, index=processed_data.index)"
   ]
  },
  {
   "cell_type": "markdown",
   "metadata": {},
   "source": [
    "This makes a new column identifying the cereal name to a cluster class. Then, I sorted the data by cluster class to get a better understanding of which cereals belong to what class. "
   ]
  },
  {
   "cell_type": "code",
   "execution_count": 711,
   "metadata": {
    "collapsed": false
   },
   "outputs": [
    {
     "data": {
      "text/html": [
       "<div>\n",
       "<table border=\"1\" class=\"dataframe\">\n",
       "  <thead>\n",
       "    <tr style=\"text-align: right;\">\n",
       "      <th></th>\n",
       "      <th>type_int</th>\n",
       "      <th>mfr</th>\n",
       "      <th>calories</th>\n",
       "      <th>protein</th>\n",
       "      <th>fat</th>\n",
       "      <th>sodium</th>\n",
       "      <th>fiber</th>\n",
       "      <th>carbo</th>\n",
       "      <th>sugars</th>\n",
       "      <th>potass</th>\n",
       "      <th>vitamins</th>\n",
       "      <th>shelf</th>\n",
       "      <th>weight</th>\n",
       "      <th>cups</th>\n",
       "      <th>Cluster_Class</th>\n",
       "    </tr>\n",
       "    <tr>\n",
       "      <th>name</th>\n",
       "      <th></th>\n",
       "      <th></th>\n",
       "      <th></th>\n",
       "      <th></th>\n",
       "      <th></th>\n",
       "      <th></th>\n",
       "      <th></th>\n",
       "      <th></th>\n",
       "      <th></th>\n",
       "      <th></th>\n",
       "      <th></th>\n",
       "      <th></th>\n",
       "      <th></th>\n",
       "      <th></th>\n",
       "      <th></th>\n",
       "    </tr>\n",
       "  </thead>\n",
       "  <tbody>\n",
       "    <tr>\n",
       "      <th>Cheerios</th>\n",
       "      <td>0</td>\n",
       "      <td>1</td>\n",
       "      <td>110.000000</td>\n",
       "      <td>6.000000</td>\n",
       "      <td>2.000000</td>\n",
       "      <td>290.000000</td>\n",
       "      <td>2.000000</td>\n",
       "      <td>17.000000</td>\n",
       "      <td>1.000000</td>\n",
       "      <td>105.000000</td>\n",
       "      <td>25.000000</td>\n",
       "      <td>1.000000</td>\n",
       "      <td>1</td>\n",
       "      <td>1.250000</td>\n",
       "      <td>0</td>\n",
       "    </tr>\n",
       "    <tr>\n",
       "      <th>Frosted_Mini-Wheats</th>\n",
       "      <td>0</td>\n",
       "      <td>2</td>\n",
       "      <td>100.000000</td>\n",
       "      <td>3.000000</td>\n",
       "      <td>0.000000</td>\n",
       "      <td>0.000000</td>\n",
       "      <td>3.000000</td>\n",
       "      <td>14.000000</td>\n",
       "      <td>7.000000</td>\n",
       "      <td>100.000000</td>\n",
       "      <td>25.000000</td>\n",
       "      <td>2.000000</td>\n",
       "      <td>1</td>\n",
       "      <td>0.800000</td>\n",
       "      <td>0</td>\n",
       "    </tr>\n",
       "    <tr>\n",
       "      <th>Nutri-grain_Wheat</th>\n",
       "      <td>0</td>\n",
       "      <td>2</td>\n",
       "      <td>90.000000</td>\n",
       "      <td>3.000000</td>\n",
       "      <td>0.000000</td>\n",
       "      <td>170.000000</td>\n",
       "      <td>3.000000</td>\n",
       "      <td>18.000000</td>\n",
       "      <td>2.000000</td>\n",
       "      <td>90.000000</td>\n",
       "      <td>25.000000</td>\n",
       "      <td>3.000000</td>\n",
       "      <td>1</td>\n",
       "      <td>1.000000</td>\n",
       "      <td>0</td>\n",
       "    </tr>\n",
       "    <tr>\n",
       "      <th>Wheaties</th>\n",
       "      <td>0</td>\n",
       "      <td>1</td>\n",
       "      <td>100.000000</td>\n",
       "      <td>3.000000</td>\n",
       "      <td>1.000000</td>\n",
       "      <td>200.000000</td>\n",
       "      <td>3.000000</td>\n",
       "      <td>17.000000</td>\n",
       "      <td>3.000000</td>\n",
       "      <td>110.000000</td>\n",
       "      <td>25.000000</td>\n",
       "      <td>1.000000</td>\n",
       "      <td>1</td>\n",
       "      <td>1.000000</td>\n",
       "      <td>0</td>\n",
       "    </tr>\n",
       "    <tr>\n",
       "      <th>Quaker_Oat_Squares</th>\n",
       "      <td>0</td>\n",
       "      <td>5</td>\n",
       "      <td>100.000000</td>\n",
       "      <td>4.000000</td>\n",
       "      <td>1.000000</td>\n",
       "      <td>135.000000</td>\n",
       "      <td>2.000000</td>\n",
       "      <td>14.000000</td>\n",
       "      <td>6.000000</td>\n",
       "      <td>110.000000</td>\n",
       "      <td>25.000000</td>\n",
       "      <td>3.000000</td>\n",
       "      <td>1</td>\n",
       "      <td>0.500000</td>\n",
       "      <td>0</td>\n",
       "    </tr>\n",
       "    <tr>\n",
       "      <th>Raisin_Squares</th>\n",
       "      <td>0</td>\n",
       "      <td>2</td>\n",
       "      <td>90.000000</td>\n",
       "      <td>2.000000</td>\n",
       "      <td>0.000000</td>\n",
       "      <td>0.000000</td>\n",
       "      <td>2.000000</td>\n",
       "      <td>15.000000</td>\n",
       "      <td>6.000000</td>\n",
       "      <td>110.000000</td>\n",
       "      <td>25.000000</td>\n",
       "      <td>3.000000</td>\n",
       "      <td>1</td>\n",
       "      <td>0.500000</td>\n",
       "      <td>0</td>\n",
       "    </tr>\n",
       "    <tr>\n",
       "      <th>Shredded_Wheat</th>\n",
       "      <td>0</td>\n",
       "      <td>3</td>\n",
       "      <td>96.385542</td>\n",
       "      <td>2.409639</td>\n",
       "      <td>0.000000</td>\n",
       "      <td>0.000000</td>\n",
       "      <td>3.614458</td>\n",
       "      <td>19.277108</td>\n",
       "      <td>0.000000</td>\n",
       "      <td>114.457831</td>\n",
       "      <td>0.000000</td>\n",
       "      <td>1.204819</td>\n",
       "      <td>1</td>\n",
       "      <td>1.204819</td>\n",
       "      <td>0</td>\n",
       "    </tr>\n",
       "    <tr>\n",
       "      <th>Shredded_Wheat_'n'Bran</th>\n",
       "      <td>0</td>\n",
       "      <td>3</td>\n",
       "      <td>90.000000</td>\n",
       "      <td>3.000000</td>\n",
       "      <td>0.000000</td>\n",
       "      <td>0.000000</td>\n",
       "      <td>4.000000</td>\n",
       "      <td>19.000000</td>\n",
       "      <td>0.000000</td>\n",
       "      <td>140.000000</td>\n",
       "      <td>0.000000</td>\n",
       "      <td>1.000000</td>\n",
       "      <td>1</td>\n",
       "      <td>0.670000</td>\n",
       "      <td>0</td>\n",
       "    </tr>\n",
       "    <tr>\n",
       "      <th>Shredded_Wheat_spoon_size</th>\n",
       "      <td>0</td>\n",
       "      <td>3</td>\n",
       "      <td>90.000000</td>\n",
       "      <td>3.000000</td>\n",
       "      <td>0.000000</td>\n",
       "      <td>0.000000</td>\n",
       "      <td>3.000000</td>\n",
       "      <td>20.000000</td>\n",
       "      <td>0.000000</td>\n",
       "      <td>120.000000</td>\n",
       "      <td>0.000000</td>\n",
       "      <td>1.000000</td>\n",
       "      <td>1</td>\n",
       "      <td>0.670000</td>\n",
       "      <td>0</td>\n",
       "    </tr>\n",
       "    <tr>\n",
       "      <th>Maypo</th>\n",
       "      <td>1</td>\n",
       "      <td>0</td>\n",
       "      <td>100.000000</td>\n",
       "      <td>4.000000</td>\n",
       "      <td>1.000000</td>\n",
       "      <td>0.000000</td>\n",
       "      <td>0.000000</td>\n",
       "      <td>16.000000</td>\n",
       "      <td>3.000000</td>\n",
       "      <td>95.000000</td>\n",
       "      <td>25.000000</td>\n",
       "      <td>2.000000</td>\n",
       "      <td>1</td>\n",
       "      <td>1.000000</td>\n",
       "      <td>0</td>\n",
       "    </tr>\n",
       "    <tr>\n",
       "      <th>Double_Chex</th>\n",
       "      <td>0</td>\n",
       "      <td>6</td>\n",
       "      <td>100.000000</td>\n",
       "      <td>2.000000</td>\n",
       "      <td>0.000000</td>\n",
       "      <td>190.000000</td>\n",
       "      <td>1.000000</td>\n",
       "      <td>18.000000</td>\n",
       "      <td>5.000000</td>\n",
       "      <td>80.000000</td>\n",
       "      <td>25.000000</td>\n",
       "      <td>3.000000</td>\n",
       "      <td>1</td>\n",
       "      <td>0.750000</td>\n",
       "      <td>0</td>\n",
       "    </tr>\n",
       "    <tr>\n",
       "      <th>Grape_Nuts_Flakes</th>\n",
       "      <td>0</td>\n",
       "      <td>4</td>\n",
       "      <td>100.000000</td>\n",
       "      <td>3.000000</td>\n",
       "      <td>1.000000</td>\n",
       "      <td>140.000000</td>\n",
       "      <td>3.000000</td>\n",
       "      <td>15.000000</td>\n",
       "      <td>5.000000</td>\n",
       "      <td>85.000000</td>\n",
       "      <td>25.000000</td>\n",
       "      <td>3.000000</td>\n",
       "      <td>1</td>\n",
       "      <td>0.880000</td>\n",
       "      <td>0</td>\n",
       "    </tr>\n",
       "    <tr>\n",
       "      <th>Special_K</th>\n",
       "      <td>0</td>\n",
       "      <td>2</td>\n",
       "      <td>110.000000</td>\n",
       "      <td>6.000000</td>\n",
       "      <td>0.000000</td>\n",
       "      <td>230.000000</td>\n",
       "      <td>1.000000</td>\n",
       "      <td>16.000000</td>\n",
       "      <td>3.000000</td>\n",
       "      <td>55.000000</td>\n",
       "      <td>25.000000</td>\n",
       "      <td>1.000000</td>\n",
       "      <td>1</td>\n",
       "      <td>1.000000</td>\n",
       "      <td>0</td>\n",
       "    </tr>\n",
       "    <tr>\n",
       "      <th>Strawberry_Fruit_Wheats</th>\n",
       "      <td>0</td>\n",
       "      <td>3</td>\n",
       "      <td>90.000000</td>\n",
       "      <td>2.000000</td>\n",
       "      <td>0.000000</td>\n",
       "      <td>15.000000</td>\n",
       "      <td>3.000000</td>\n",
       "      <td>15.000000</td>\n",
       "      <td>5.000000</td>\n",
       "      <td>90.000000</td>\n",
       "      <td>25.000000</td>\n",
       "      <td>2.000000</td>\n",
       "      <td>1</td>\n",
       "      <td>1.000000</td>\n",
       "      <td>0</td>\n",
       "    </tr>\n",
       "    <tr>\n",
       "      <th>Grape-Nuts</th>\n",
       "      <td>0</td>\n",
       "      <td>4</td>\n",
       "      <td>110.000000</td>\n",
       "      <td>3.000000</td>\n",
       "      <td>0.000000</td>\n",
       "      <td>170.000000</td>\n",
       "      <td>3.000000</td>\n",
       "      <td>17.000000</td>\n",
       "      <td>3.000000</td>\n",
       "      <td>90.000000</td>\n",
       "      <td>25.000000</td>\n",
       "      <td>3.000000</td>\n",
       "      <td>1</td>\n",
       "      <td>0.250000</td>\n",
       "      <td>0</td>\n",
       "    </tr>\n",
       "    <tr>\n",
       "      <th>Total_Whole_Grain</th>\n",
       "      <td>0</td>\n",
       "      <td>1</td>\n",
       "      <td>100.000000</td>\n",
       "      <td>3.000000</td>\n",
       "      <td>1.000000</td>\n",
       "      <td>200.000000</td>\n",
       "      <td>3.000000</td>\n",
       "      <td>16.000000</td>\n",
       "      <td>3.000000</td>\n",
       "      <td>110.000000</td>\n",
       "      <td>100.000000</td>\n",
       "      <td>3.000000</td>\n",
       "      <td>1</td>\n",
       "      <td>1.000000</td>\n",
       "      <td>0</td>\n",
       "    </tr>\n",
       "    <tr>\n",
       "      <th>Wheat_Chex</th>\n",
       "      <td>0</td>\n",
       "      <td>6</td>\n",
       "      <td>100.000000</td>\n",
       "      <td>3.000000</td>\n",
       "      <td>1.000000</td>\n",
       "      <td>230.000000</td>\n",
       "      <td>3.000000</td>\n",
       "      <td>17.000000</td>\n",
       "      <td>3.000000</td>\n",
       "      <td>115.000000</td>\n",
       "      <td>25.000000</td>\n",
       "      <td>1.000000</td>\n",
       "      <td>1</td>\n",
       "      <td>0.670000</td>\n",
       "      <td>0</td>\n",
       "    </tr>\n",
       "    <tr>\n",
       "      <th>Bran_Flakes</th>\n",
       "      <td>0</td>\n",
       "      <td>4</td>\n",
       "      <td>90.000000</td>\n",
       "      <td>3.000000</td>\n",
       "      <td>0.000000</td>\n",
       "      <td>210.000000</td>\n",
       "      <td>5.000000</td>\n",
       "      <td>13.000000</td>\n",
       "      <td>5.000000</td>\n",
       "      <td>190.000000</td>\n",
       "      <td>25.000000</td>\n",
       "      <td>3.000000</td>\n",
       "      <td>1</td>\n",
       "      <td>0.670000</td>\n",
       "      <td>0</td>\n",
       "    </tr>\n",
       "    <tr>\n",
       "      <th>Mueslix_Crispy_Blend</th>\n",
       "      <td>0</td>\n",
       "      <td>2</td>\n",
       "      <td>106.666667</td>\n",
       "      <td>2.000000</td>\n",
       "      <td>1.333333</td>\n",
       "      <td>100.000000</td>\n",
       "      <td>2.000000</td>\n",
       "      <td>11.333333</td>\n",
       "      <td>8.666667</td>\n",
       "      <td>106.666667</td>\n",
       "      <td>16.666667</td>\n",
       "      <td>2.000000</td>\n",
       "      <td>1</td>\n",
       "      <td>0.446667</td>\n",
       "      <td>1</td>\n",
       "    </tr>\n",
       "    <tr>\n",
       "      <th>Life</th>\n",
       "      <td>0</td>\n",
       "      <td>5</td>\n",
       "      <td>100.000000</td>\n",
       "      <td>4.000000</td>\n",
       "      <td>2.000000</td>\n",
       "      <td>150.000000</td>\n",
       "      <td>2.000000</td>\n",
       "      <td>12.000000</td>\n",
       "      <td>6.000000</td>\n",
       "      <td>95.000000</td>\n",
       "      <td>25.000000</td>\n",
       "      <td>2.000000</td>\n",
       "      <td>1</td>\n",
       "      <td>0.670000</td>\n",
       "      <td>1</td>\n",
       "    </tr>\n",
       "    <tr>\n",
       "      <th>Muesli_Raisins,_Dates,_&amp;_Almonds</th>\n",
       "      <td>0</td>\n",
       "      <td>6</td>\n",
       "      <td>150.000000</td>\n",
       "      <td>4.000000</td>\n",
       "      <td>3.000000</td>\n",
       "      <td>95.000000</td>\n",
       "      <td>3.000000</td>\n",
       "      <td>16.000000</td>\n",
       "      <td>11.000000</td>\n",
       "      <td>170.000000</td>\n",
       "      <td>25.000000</td>\n",
       "      <td>3.000000</td>\n",
       "      <td>1</td>\n",
       "      <td>1.000000</td>\n",
       "      <td>1</td>\n",
       "    </tr>\n",
       "    <tr>\n",
       "      <th>Just_Right_Fruit_&amp;_Nut</th>\n",
       "      <td>0</td>\n",
       "      <td>2</td>\n",
       "      <td>107.692308</td>\n",
       "      <td>2.307692</td>\n",
       "      <td>0.769231</td>\n",
       "      <td>130.769231</td>\n",
       "      <td>1.538462</td>\n",
       "      <td>15.384615</td>\n",
       "      <td>6.923077</td>\n",
       "      <td>73.076923</td>\n",
       "      <td>76.923077</td>\n",
       "      <td>2.307692</td>\n",
       "      <td>1</td>\n",
       "      <td>0.576923</td>\n",
       "      <td>1</td>\n",
       "    </tr>\n",
       "    <tr>\n",
       "      <th>Muesli_Raisins,_Peaches,_&amp;_Pecans</th>\n",
       "      <td>0</td>\n",
       "      <td>6</td>\n",
       "      <td>150.000000</td>\n",
       "      <td>4.000000</td>\n",
       "      <td>3.000000</td>\n",
       "      <td>150.000000</td>\n",
       "      <td>3.000000</td>\n",
       "      <td>16.000000</td>\n",
       "      <td>11.000000</td>\n",
       "      <td>170.000000</td>\n",
       "      <td>25.000000</td>\n",
       "      <td>3.000000</td>\n",
       "      <td>1</td>\n",
       "      <td>1.000000</td>\n",
       "      <td>1</td>\n",
       "    </tr>\n",
       "    <tr>\n",
       "      <th>Oatmeal_Raisin_Crisp</th>\n",
       "      <td>0</td>\n",
       "      <td>1</td>\n",
       "      <td>104.000000</td>\n",
       "      <td>2.400000</td>\n",
       "      <td>1.600000</td>\n",
       "      <td>136.000000</td>\n",
       "      <td>1.200000</td>\n",
       "      <td>10.800000</td>\n",
       "      <td>8.000000</td>\n",
       "      <td>96.000000</td>\n",
       "      <td>20.000000</td>\n",
       "      <td>2.400000</td>\n",
       "      <td>1</td>\n",
       "      <td>0.400000</td>\n",
       "      <td>1</td>\n",
       "    </tr>\n",
       "    <tr>\n",
       "      <th>Honey_Nut_Cheerios</th>\n",
       "      <td>0</td>\n",
       "      <td>1</td>\n",
       "      <td>110.000000</td>\n",
       "      <td>3.000000</td>\n",
       "      <td>1.000000</td>\n",
       "      <td>250.000000</td>\n",
       "      <td>1.500000</td>\n",
       "      <td>11.500000</td>\n",
       "      <td>10.000000</td>\n",
       "      <td>90.000000</td>\n",
       "      <td>25.000000</td>\n",
       "      <td>1.000000</td>\n",
       "      <td>1</td>\n",
       "      <td>0.750000</td>\n",
       "      <td>1</td>\n",
       "    </tr>\n",
       "    <tr>\n",
       "      <th>Crispy_Wheat_&amp;_Raisins</th>\n",
       "      <td>0</td>\n",
       "      <td>1</td>\n",
       "      <td>100.000000</td>\n",
       "      <td>2.000000</td>\n",
       "      <td>1.000000</td>\n",
       "      <td>140.000000</td>\n",
       "      <td>2.000000</td>\n",
       "      <td>11.000000</td>\n",
       "      <td>10.000000</td>\n",
       "      <td>120.000000</td>\n",
       "      <td>25.000000</td>\n",
       "      <td>3.000000</td>\n",
       "      <td>1</td>\n",
       "      <td>0.750000</td>\n",
       "      <td>1</td>\n",
       "    </tr>\n",
       "    <tr>\n",
       "      <th>Nutri-Grain_Almond-Raisin</th>\n",
       "      <td>0</td>\n",
       "      <td>2</td>\n",
       "      <td>105.263158</td>\n",
       "      <td>2.255639</td>\n",
       "      <td>1.503759</td>\n",
       "      <td>165.413534</td>\n",
       "      <td>2.255639</td>\n",
       "      <td>15.789474</td>\n",
       "      <td>5.263158</td>\n",
       "      <td>97.744361</td>\n",
       "      <td>18.796992</td>\n",
       "      <td>2.255639</td>\n",
       "      <td>1</td>\n",
       "      <td>0.503759</td>\n",
       "      <td>1</td>\n",
       "    </tr>\n",
       "    <tr>\n",
       "      <th>Clusters</th>\n",
       "      <td>0</td>\n",
       "      <td>1</td>\n",
       "      <td>110.000000</td>\n",
       "      <td>3.000000</td>\n",
       "      <td>2.000000</td>\n",
       "      <td>140.000000</td>\n",
       "      <td>2.000000</td>\n",
       "      <td>13.000000</td>\n",
       "      <td>7.000000</td>\n",
       "      <td>105.000000</td>\n",
       "      <td>25.000000</td>\n",
       "      <td>3.000000</td>\n",
       "      <td>1</td>\n",
       "      <td>0.500000</td>\n",
       "      <td>1</td>\n",
       "    </tr>\n",
       "    <tr>\n",
       "      <th>Bran_Chex</th>\n",
       "      <td>0</td>\n",
       "      <td>6</td>\n",
       "      <td>90.000000</td>\n",
       "      <td>2.000000</td>\n",
       "      <td>1.000000</td>\n",
       "      <td>200.000000</td>\n",
       "      <td>4.000000</td>\n",
       "      <td>15.000000</td>\n",
       "      <td>6.000000</td>\n",
       "      <td>125.000000</td>\n",
       "      <td>25.000000</td>\n",
       "      <td>1.000000</td>\n",
       "      <td>1</td>\n",
       "      <td>0.670000</td>\n",
       "      <td>1</td>\n",
       "    </tr>\n",
       "    <tr>\n",
       "      <th>Basic_4</th>\n",
       "      <td>0</td>\n",
       "      <td>1</td>\n",
       "      <td>97.744361</td>\n",
       "      <td>2.255639</td>\n",
       "      <td>1.503759</td>\n",
       "      <td>157.894737</td>\n",
       "      <td>1.503759</td>\n",
       "      <td>13.533835</td>\n",
       "      <td>6.015038</td>\n",
       "      <td>75.187970</td>\n",
       "      <td>18.796992</td>\n",
       "      <td>2.255639</td>\n",
       "      <td>1</td>\n",
       "      <td>0.563910</td>\n",
       "      <td>1</td>\n",
       "    </tr>\n",
       "    <tr>\n",
       "      <th>...</th>\n",
       "      <td>...</td>\n",
       "      <td>...</td>\n",
       "      <td>...</td>\n",
       "      <td>...</td>\n",
       "      <td>...</td>\n",
       "      <td>...</td>\n",
       "      <td>...</td>\n",
       "      <td>...</td>\n",
       "      <td>...</td>\n",
       "      <td>...</td>\n",
       "      <td>...</td>\n",
       "      <td>...</td>\n",
       "      <td>...</td>\n",
       "      <td>...</td>\n",
       "      <td>...</td>\n",
       "    </tr>\n",
       "    <tr>\n",
       "      <th>Apple_Cinnamon_Cheerios</th>\n",
       "      <td>0</td>\n",
       "      <td>1</td>\n",
       "      <td>110.000000</td>\n",
       "      <td>2.000000</td>\n",
       "      <td>2.000000</td>\n",
       "      <td>180.000000</td>\n",
       "      <td>1.500000</td>\n",
       "      <td>10.500000</td>\n",
       "      <td>10.000000</td>\n",
       "      <td>70.000000</td>\n",
       "      <td>25.000000</td>\n",
       "      <td>1.000000</td>\n",
       "      <td>1</td>\n",
       "      <td>0.750000</td>\n",
       "      <td>2</td>\n",
       "    </tr>\n",
       "    <tr>\n",
       "      <th>Fruity_Pebbles</th>\n",
       "      <td>0</td>\n",
       "      <td>4</td>\n",
       "      <td>110.000000</td>\n",
       "      <td>1.000000</td>\n",
       "      <td>1.000000</td>\n",
       "      <td>135.000000</td>\n",
       "      <td>0.000000</td>\n",
       "      <td>13.000000</td>\n",
       "      <td>12.000000</td>\n",
       "      <td>25.000000</td>\n",
       "      <td>25.000000</td>\n",
       "      <td>2.000000</td>\n",
       "      <td>1</td>\n",
       "      <td>0.750000</td>\n",
       "      <td>2</td>\n",
       "    </tr>\n",
       "    <tr>\n",
       "      <th>Golden_Crisp</th>\n",
       "      <td>0</td>\n",
       "      <td>4</td>\n",
       "      <td>100.000000</td>\n",
       "      <td>2.000000</td>\n",
       "      <td>0.000000</td>\n",
       "      <td>45.000000</td>\n",
       "      <td>0.000000</td>\n",
       "      <td>11.000000</td>\n",
       "      <td>15.000000</td>\n",
       "      <td>40.000000</td>\n",
       "      <td>25.000000</td>\n",
       "      <td>1.000000</td>\n",
       "      <td>1</td>\n",
       "      <td>0.880000</td>\n",
       "      <td>2</td>\n",
       "    </tr>\n",
       "    <tr>\n",
       "      <th>Golden_Grahams</th>\n",
       "      <td>0</td>\n",
       "      <td>1</td>\n",
       "      <td>110.000000</td>\n",
       "      <td>1.000000</td>\n",
       "      <td>1.000000</td>\n",
       "      <td>280.000000</td>\n",
       "      <td>0.000000</td>\n",
       "      <td>15.000000</td>\n",
       "      <td>9.000000</td>\n",
       "      <td>45.000000</td>\n",
       "      <td>25.000000</td>\n",
       "      <td>2.000000</td>\n",
       "      <td>1</td>\n",
       "      <td>0.750000</td>\n",
       "      <td>2</td>\n",
       "    </tr>\n",
       "    <tr>\n",
       "      <th>Apple_Jacks</th>\n",
       "      <td>0</td>\n",
       "      <td>2</td>\n",
       "      <td>110.000000</td>\n",
       "      <td>2.000000</td>\n",
       "      <td>0.000000</td>\n",
       "      <td>125.000000</td>\n",
       "      <td>1.000000</td>\n",
       "      <td>11.000000</td>\n",
       "      <td>14.000000</td>\n",
       "      <td>30.000000</td>\n",
       "      <td>25.000000</td>\n",
       "      <td>2.000000</td>\n",
       "      <td>1</td>\n",
       "      <td>1.000000</td>\n",
       "      <td>2</td>\n",
       "    </tr>\n",
       "    <tr>\n",
       "      <th>Cream_of_Wheat_(Quick)</th>\n",
       "      <td>1</td>\n",
       "      <td>3</td>\n",
       "      <td>100.000000</td>\n",
       "      <td>3.000000</td>\n",
       "      <td>0.000000</td>\n",
       "      <td>80.000000</td>\n",
       "      <td>1.000000</td>\n",
       "      <td>21.000000</td>\n",
       "      <td>0.000000</td>\n",
       "      <td>65.113925</td>\n",
       "      <td>0.000000</td>\n",
       "      <td>2.000000</td>\n",
       "      <td>1</td>\n",
       "      <td>1.000000</td>\n",
       "      <td>3</td>\n",
       "    </tr>\n",
       "    <tr>\n",
       "      <th>Puffed_Rice</th>\n",
       "      <td>0</td>\n",
       "      <td>5</td>\n",
       "      <td>100.000000</td>\n",
       "      <td>2.000000</td>\n",
       "      <td>0.000000</td>\n",
       "      <td>0.000000</td>\n",
       "      <td>0.000000</td>\n",
       "      <td>26.000000</td>\n",
       "      <td>0.000000</td>\n",
       "      <td>30.000000</td>\n",
       "      <td>0.000000</td>\n",
       "      <td>6.000000</td>\n",
       "      <td>1</td>\n",
       "      <td>2.000000</td>\n",
       "      <td>3</td>\n",
       "    </tr>\n",
       "    <tr>\n",
       "      <th>Puffed_Wheat</th>\n",
       "      <td>0</td>\n",
       "      <td>5</td>\n",
       "      <td>100.000000</td>\n",
       "      <td>4.000000</td>\n",
       "      <td>0.000000</td>\n",
       "      <td>0.000000</td>\n",
       "      <td>2.000000</td>\n",
       "      <td>20.000000</td>\n",
       "      <td>0.000000</td>\n",
       "      <td>100.000000</td>\n",
       "      <td>0.000000</td>\n",
       "      <td>6.000000</td>\n",
       "      <td>1</td>\n",
       "      <td>2.000000</td>\n",
       "      <td>3</td>\n",
       "    </tr>\n",
       "    <tr>\n",
       "      <th>Rice_Krispies</th>\n",
       "      <td>0</td>\n",
       "      <td>2</td>\n",
       "      <td>110.000000</td>\n",
       "      <td>2.000000</td>\n",
       "      <td>0.000000</td>\n",
       "      <td>290.000000</td>\n",
       "      <td>0.000000</td>\n",
       "      <td>22.000000</td>\n",
       "      <td>3.000000</td>\n",
       "      <td>35.000000</td>\n",
       "      <td>25.000000</td>\n",
       "      <td>1.000000</td>\n",
       "      <td>1</td>\n",
       "      <td>1.000000</td>\n",
       "      <td>4</td>\n",
       "    </tr>\n",
       "    <tr>\n",
       "      <th>Total_Corn_Flakes</th>\n",
       "      <td>0</td>\n",
       "      <td>1</td>\n",
       "      <td>110.000000</td>\n",
       "      <td>2.000000</td>\n",
       "      <td>1.000000</td>\n",
       "      <td>200.000000</td>\n",
       "      <td>0.000000</td>\n",
       "      <td>21.000000</td>\n",
       "      <td>3.000000</td>\n",
       "      <td>35.000000</td>\n",
       "      <td>100.000000</td>\n",
       "      <td>3.000000</td>\n",
       "      <td>1</td>\n",
       "      <td>1.000000</td>\n",
       "      <td>4</td>\n",
       "    </tr>\n",
       "    <tr>\n",
       "      <th>Corn_Chex</th>\n",
       "      <td>0</td>\n",
       "      <td>6</td>\n",
       "      <td>110.000000</td>\n",
       "      <td>2.000000</td>\n",
       "      <td>0.000000</td>\n",
       "      <td>280.000000</td>\n",
       "      <td>0.000000</td>\n",
       "      <td>22.000000</td>\n",
       "      <td>3.000000</td>\n",
       "      <td>25.000000</td>\n",
       "      <td>25.000000</td>\n",
       "      <td>1.000000</td>\n",
       "      <td>1</td>\n",
       "      <td>1.000000</td>\n",
       "      <td>4</td>\n",
       "    </tr>\n",
       "    <tr>\n",
       "      <th>Triples</th>\n",
       "      <td>0</td>\n",
       "      <td>1</td>\n",
       "      <td>110.000000</td>\n",
       "      <td>2.000000</td>\n",
       "      <td>1.000000</td>\n",
       "      <td>250.000000</td>\n",
       "      <td>0.000000</td>\n",
       "      <td>21.000000</td>\n",
       "      <td>3.000000</td>\n",
       "      <td>60.000000</td>\n",
       "      <td>25.000000</td>\n",
       "      <td>3.000000</td>\n",
       "      <td>1</td>\n",
       "      <td>0.750000</td>\n",
       "      <td>4</td>\n",
       "    </tr>\n",
       "    <tr>\n",
       "      <th>Rice_Chex</th>\n",
       "      <td>0</td>\n",
       "      <td>6</td>\n",
       "      <td>110.000000</td>\n",
       "      <td>1.000000</td>\n",
       "      <td>0.000000</td>\n",
       "      <td>240.000000</td>\n",
       "      <td>0.000000</td>\n",
       "      <td>23.000000</td>\n",
       "      <td>2.000000</td>\n",
       "      <td>30.000000</td>\n",
       "      <td>25.000000</td>\n",
       "      <td>1.000000</td>\n",
       "      <td>1</td>\n",
       "      <td>1.130000</td>\n",
       "      <td>4</td>\n",
       "    </tr>\n",
       "    <tr>\n",
       "      <th>Just_Right_Crunchy__Nuggets</th>\n",
       "      <td>0</td>\n",
       "      <td>2</td>\n",
       "      <td>110.000000</td>\n",
       "      <td>2.000000</td>\n",
       "      <td>1.000000</td>\n",
       "      <td>170.000000</td>\n",
       "      <td>1.000000</td>\n",
       "      <td>17.000000</td>\n",
       "      <td>6.000000</td>\n",
       "      <td>60.000000</td>\n",
       "      <td>100.000000</td>\n",
       "      <td>3.000000</td>\n",
       "      <td>1</td>\n",
       "      <td>1.000000</td>\n",
       "      <td>4</td>\n",
       "    </tr>\n",
       "    <tr>\n",
       "      <th>Product_19</th>\n",
       "      <td>0</td>\n",
       "      <td>2</td>\n",
       "      <td>100.000000</td>\n",
       "      <td>3.000000</td>\n",
       "      <td>0.000000</td>\n",
       "      <td>320.000000</td>\n",
       "      <td>1.000000</td>\n",
       "      <td>20.000000</td>\n",
       "      <td>3.000000</td>\n",
       "      <td>45.000000</td>\n",
       "      <td>100.000000</td>\n",
       "      <td>3.000000</td>\n",
       "      <td>1</td>\n",
       "      <td>1.000000</td>\n",
       "      <td>4</td>\n",
       "    </tr>\n",
       "    <tr>\n",
       "      <th>Crispix</th>\n",
       "      <td>0</td>\n",
       "      <td>2</td>\n",
       "      <td>110.000000</td>\n",
       "      <td>2.000000</td>\n",
       "      <td>0.000000</td>\n",
       "      <td>220.000000</td>\n",
       "      <td>1.000000</td>\n",
       "      <td>21.000000</td>\n",
       "      <td>3.000000</td>\n",
       "      <td>30.000000</td>\n",
       "      <td>25.000000</td>\n",
       "      <td>3.000000</td>\n",
       "      <td>1</td>\n",
       "      <td>1.000000</td>\n",
       "      <td>4</td>\n",
       "    </tr>\n",
       "    <tr>\n",
       "      <th>Kix</th>\n",
       "      <td>0</td>\n",
       "      <td>1</td>\n",
       "      <td>110.000000</td>\n",
       "      <td>2.000000</td>\n",
       "      <td>1.000000</td>\n",
       "      <td>260.000000</td>\n",
       "      <td>0.000000</td>\n",
       "      <td>21.000000</td>\n",
       "      <td>3.000000</td>\n",
       "      <td>40.000000</td>\n",
       "      <td>25.000000</td>\n",
       "      <td>2.000000</td>\n",
       "      <td>1</td>\n",
       "      <td>1.500000</td>\n",
       "      <td>4</td>\n",
       "    </tr>\n",
       "    <tr>\n",
       "      <th>Corn_Flakes</th>\n",
       "      <td>0</td>\n",
       "      <td>2</td>\n",
       "      <td>100.000000</td>\n",
       "      <td>2.000000</td>\n",
       "      <td>0.000000</td>\n",
       "      <td>290.000000</td>\n",
       "      <td>1.000000</td>\n",
       "      <td>21.000000</td>\n",
       "      <td>2.000000</td>\n",
       "      <td>35.000000</td>\n",
       "      <td>25.000000</td>\n",
       "      <td>1.000000</td>\n",
       "      <td>1</td>\n",
       "      <td>1.000000</td>\n",
       "      <td>4</td>\n",
       "    </tr>\n",
       "    <tr>\n",
       "      <th>All-Bran_with_Extra_Fiber</th>\n",
       "      <td>0</td>\n",
       "      <td>2</td>\n",
       "      <td>50.000000</td>\n",
       "      <td>4.000000</td>\n",
       "      <td>0.000000</td>\n",
       "      <td>140.000000</td>\n",
       "      <td>14.000000</td>\n",
       "      <td>8.000000</td>\n",
       "      <td>0.000000</td>\n",
       "      <td>330.000000</td>\n",
       "      <td>25.000000</td>\n",
       "      <td>3.000000</td>\n",
       "      <td>1</td>\n",
       "      <td>0.500000</td>\n",
       "      <td>5</td>\n",
       "    </tr>\n",
       "    <tr>\n",
       "      <th>All-Bran</th>\n",
       "      <td>0</td>\n",
       "      <td>2</td>\n",
       "      <td>70.000000</td>\n",
       "      <td>4.000000</td>\n",
       "      <td>1.000000</td>\n",
       "      <td>260.000000</td>\n",
       "      <td>9.000000</td>\n",
       "      <td>7.000000</td>\n",
       "      <td>5.000000</td>\n",
       "      <td>320.000000</td>\n",
       "      <td>25.000000</td>\n",
       "      <td>3.000000</td>\n",
       "      <td>1</td>\n",
       "      <td>0.330000</td>\n",
       "      <td>5</td>\n",
       "    </tr>\n",
       "    <tr>\n",
       "      <th>100%_Bran</th>\n",
       "      <td>0</td>\n",
       "      <td>3</td>\n",
       "      <td>70.000000</td>\n",
       "      <td>4.000000</td>\n",
       "      <td>1.000000</td>\n",
       "      <td>130.000000</td>\n",
       "      <td>10.000000</td>\n",
       "      <td>5.000000</td>\n",
       "      <td>6.000000</td>\n",
       "      <td>280.000000</td>\n",
       "      <td>25.000000</td>\n",
       "      <td>3.000000</td>\n",
       "      <td>1</td>\n",
       "      <td>0.330000</td>\n",
       "      <td>5</td>\n",
       "    </tr>\n",
       "    <tr>\n",
       "      <th>Raisin_Nut_Bran</th>\n",
       "      <td>0</td>\n",
       "      <td>1</td>\n",
       "      <td>100.000000</td>\n",
       "      <td>3.000000</td>\n",
       "      <td>2.000000</td>\n",
       "      <td>140.000000</td>\n",
       "      <td>2.500000</td>\n",
       "      <td>10.500000</td>\n",
       "      <td>8.000000</td>\n",
       "      <td>140.000000</td>\n",
       "      <td>25.000000</td>\n",
       "      <td>3.000000</td>\n",
       "      <td>1</td>\n",
       "      <td>0.500000</td>\n",
       "      <td>6</td>\n",
       "    </tr>\n",
       "    <tr>\n",
       "      <th>Raisin_Bran</th>\n",
       "      <td>0</td>\n",
       "      <td>2</td>\n",
       "      <td>90.225564</td>\n",
       "      <td>2.255639</td>\n",
       "      <td>0.751880</td>\n",
       "      <td>157.894737</td>\n",
       "      <td>3.759398</td>\n",
       "      <td>10.526316</td>\n",
       "      <td>9.022556</td>\n",
       "      <td>180.451128</td>\n",
       "      <td>18.796992</td>\n",
       "      <td>1.503759</td>\n",
       "      <td>1</td>\n",
       "      <td>0.563910</td>\n",
       "      <td>6</td>\n",
       "    </tr>\n",
       "    <tr>\n",
       "      <th>Post_Nat._Raisin_Bran</th>\n",
       "      <td>0</td>\n",
       "      <td>4</td>\n",
       "      <td>90.225564</td>\n",
       "      <td>2.255639</td>\n",
       "      <td>0.751880</td>\n",
       "      <td>150.375940</td>\n",
       "      <td>4.511278</td>\n",
       "      <td>8.270677</td>\n",
       "      <td>10.526316</td>\n",
       "      <td>195.488722</td>\n",
       "      <td>18.796992</td>\n",
       "      <td>2.255639</td>\n",
       "      <td>1</td>\n",
       "      <td>0.503759</td>\n",
       "      <td>6</td>\n",
       "    </tr>\n",
       "    <tr>\n",
       "      <th>Cracklin'_Oat_Bran</th>\n",
       "      <td>0</td>\n",
       "      <td>2</td>\n",
       "      <td>110.000000</td>\n",
       "      <td>3.000000</td>\n",
       "      <td>3.000000</td>\n",
       "      <td>140.000000</td>\n",
       "      <td>4.000000</td>\n",
       "      <td>10.000000</td>\n",
       "      <td>7.000000</td>\n",
       "      <td>160.000000</td>\n",
       "      <td>25.000000</td>\n",
       "      <td>3.000000</td>\n",
       "      <td>1</td>\n",
       "      <td>0.500000</td>\n",
       "      <td>6</td>\n",
       "    </tr>\n",
       "    <tr>\n",
       "      <th>Fruit_&amp;_Fibre_Dates,_Walnuts,_and_Oats</th>\n",
       "      <td>0</td>\n",
       "      <td>4</td>\n",
       "      <td>96.000000</td>\n",
       "      <td>2.400000</td>\n",
       "      <td>1.600000</td>\n",
       "      <td>128.000000</td>\n",
       "      <td>4.000000</td>\n",
       "      <td>9.600000</td>\n",
       "      <td>8.000000</td>\n",
       "      <td>160.000000</td>\n",
       "      <td>20.000000</td>\n",
       "      <td>2.400000</td>\n",
       "      <td>1</td>\n",
       "      <td>0.536000</td>\n",
       "      <td>6</td>\n",
       "    </tr>\n",
       "    <tr>\n",
       "      <th>Fruitful_Bran</th>\n",
       "      <td>0</td>\n",
       "      <td>2</td>\n",
       "      <td>90.225564</td>\n",
       "      <td>2.255639</td>\n",
       "      <td>0.000000</td>\n",
       "      <td>180.451128</td>\n",
       "      <td>3.759398</td>\n",
       "      <td>10.526316</td>\n",
       "      <td>9.022556</td>\n",
       "      <td>142.857143</td>\n",
       "      <td>18.796992</td>\n",
       "      <td>2.255639</td>\n",
       "      <td>1</td>\n",
       "      <td>0.503759</td>\n",
       "      <td>6</td>\n",
       "    </tr>\n",
       "    <tr>\n",
       "      <th>Total_Raisin_Bran</th>\n",
       "      <td>0</td>\n",
       "      <td>1</td>\n",
       "      <td>93.333333</td>\n",
       "      <td>2.000000</td>\n",
       "      <td>0.666667</td>\n",
       "      <td>126.666667</td>\n",
       "      <td>2.666667</td>\n",
       "      <td>10.000000</td>\n",
       "      <td>9.333333</td>\n",
       "      <td>153.333333</td>\n",
       "      <td>66.666667</td>\n",
       "      <td>2.000000</td>\n",
       "      <td>1</td>\n",
       "      <td>0.666667</td>\n",
       "      <td>6</td>\n",
       "    </tr>\n",
       "    <tr>\n",
       "      <th>Great_Grains_Pecan</th>\n",
       "      <td>0</td>\n",
       "      <td>4</td>\n",
       "      <td>120.000000</td>\n",
       "      <td>3.000000</td>\n",
       "      <td>3.000000</td>\n",
       "      <td>75.000000</td>\n",
       "      <td>3.000000</td>\n",
       "      <td>13.000000</td>\n",
       "      <td>4.000000</td>\n",
       "      <td>100.000000</td>\n",
       "      <td>25.000000</td>\n",
       "      <td>3.000000</td>\n",
       "      <td>1</td>\n",
       "      <td>0.330000</td>\n",
       "      <td>6</td>\n",
       "    </tr>\n",
       "    <tr>\n",
       "      <th>100%_Natural_Bran</th>\n",
       "      <td>0</td>\n",
       "      <td>5</td>\n",
       "      <td>120.000000</td>\n",
       "      <td>3.000000</td>\n",
       "      <td>5.000000</td>\n",
       "      <td>15.000000</td>\n",
       "      <td>2.000000</td>\n",
       "      <td>8.000000</td>\n",
       "      <td>8.000000</td>\n",
       "      <td>135.000000</td>\n",
       "      <td>0.000000</td>\n",
       "      <td>3.000000</td>\n",
       "      <td>1</td>\n",
       "      <td>1.000000</td>\n",
       "      <td>6</td>\n",
       "    </tr>\n",
       "  </tbody>\n",
       "</table>\n",
       "<p>76 rows × 15 columns</p>\n",
       "</div>"
      ],
      "text/plain": [
       "                                        type_int  mfr    calories   protein  \\\n",
       "name                                                                          \n",
       "Cheerios                                       0    1  110.000000  6.000000   \n",
       "Frosted_Mini-Wheats                            0    2  100.000000  3.000000   \n",
       "Nutri-grain_Wheat                              0    2   90.000000  3.000000   \n",
       "Wheaties                                       0    1  100.000000  3.000000   \n",
       "Quaker_Oat_Squares                             0    5  100.000000  4.000000   \n",
       "Raisin_Squares                                 0    2   90.000000  2.000000   \n",
       "Shredded_Wheat                                 0    3   96.385542  2.409639   \n",
       "Shredded_Wheat_'n'Bran                         0    3   90.000000  3.000000   \n",
       "Shredded_Wheat_spoon_size                      0    3   90.000000  3.000000   \n",
       "Maypo                                          1    0  100.000000  4.000000   \n",
       "Double_Chex                                    0    6  100.000000  2.000000   \n",
       "Grape_Nuts_Flakes                              0    4  100.000000  3.000000   \n",
       "Special_K                                      0    2  110.000000  6.000000   \n",
       "Strawberry_Fruit_Wheats                        0    3   90.000000  2.000000   \n",
       "Grape-Nuts                                     0    4  110.000000  3.000000   \n",
       "Total_Whole_Grain                              0    1  100.000000  3.000000   \n",
       "Wheat_Chex                                     0    6  100.000000  3.000000   \n",
       "Bran_Flakes                                    0    4   90.000000  3.000000   \n",
       "Mueslix_Crispy_Blend                           0    2  106.666667  2.000000   \n",
       "Life                                           0    5  100.000000  4.000000   \n",
       "Muesli_Raisins,_Dates,_&_Almonds               0    6  150.000000  4.000000   \n",
       "Just_Right_Fruit_&_Nut                         0    2  107.692308  2.307692   \n",
       "Muesli_Raisins,_Peaches,_&_Pecans              0    6  150.000000  4.000000   \n",
       "Oatmeal_Raisin_Crisp                           0    1  104.000000  2.400000   \n",
       "Honey_Nut_Cheerios                             0    1  110.000000  3.000000   \n",
       "Crispy_Wheat_&_Raisins                         0    1  100.000000  2.000000   \n",
       "Nutri-Grain_Almond-Raisin                      0    2  105.263158  2.255639   \n",
       "Clusters                                       0    1  110.000000  3.000000   \n",
       "Bran_Chex                                      0    6   90.000000  2.000000   \n",
       "Basic_4                                        0    1   97.744361  2.255639   \n",
       "...                                          ...  ...         ...       ...   \n",
       "Apple_Cinnamon_Cheerios                        0    1  110.000000  2.000000   \n",
       "Fruity_Pebbles                                 0    4  110.000000  1.000000   \n",
       "Golden_Crisp                                   0    4  100.000000  2.000000   \n",
       "Golden_Grahams                                 0    1  110.000000  1.000000   \n",
       "Apple_Jacks                                    0    2  110.000000  2.000000   \n",
       "Cream_of_Wheat_(Quick)                         1    3  100.000000  3.000000   \n",
       "Puffed_Rice                                    0    5  100.000000  2.000000   \n",
       "Puffed_Wheat                                   0    5  100.000000  4.000000   \n",
       "Rice_Krispies                                  0    2  110.000000  2.000000   \n",
       "Total_Corn_Flakes                              0    1  110.000000  2.000000   \n",
       "Corn_Chex                                      0    6  110.000000  2.000000   \n",
       "Triples                                        0    1  110.000000  2.000000   \n",
       "Rice_Chex                                      0    6  110.000000  1.000000   \n",
       "Just_Right_Crunchy__Nuggets                    0    2  110.000000  2.000000   \n",
       "Product_19                                     0    2  100.000000  3.000000   \n",
       "Crispix                                        0    2  110.000000  2.000000   \n",
       "Kix                                            0    1  110.000000  2.000000   \n",
       "Corn_Flakes                                    0    2  100.000000  2.000000   \n",
       "All-Bran_with_Extra_Fiber                      0    2   50.000000  4.000000   \n",
       "All-Bran                                       0    2   70.000000  4.000000   \n",
       "100%_Bran                                      0    3   70.000000  4.000000   \n",
       "Raisin_Nut_Bran                                0    1  100.000000  3.000000   \n",
       "Raisin_Bran                                    0    2   90.225564  2.255639   \n",
       "Post_Nat._Raisin_Bran                          0    4   90.225564  2.255639   \n",
       "Cracklin'_Oat_Bran                             0    2  110.000000  3.000000   \n",
       "Fruit_&_Fibre_Dates,_Walnuts,_and_Oats         0    4   96.000000  2.400000   \n",
       "Fruitful_Bran                                  0    2   90.225564  2.255639   \n",
       "Total_Raisin_Bran                              0    1   93.333333  2.000000   \n",
       "Great_Grains_Pecan                             0    4  120.000000  3.000000   \n",
       "100%_Natural_Bran                              0    5  120.000000  3.000000   \n",
       "\n",
       "                                             fat      sodium      fiber  \\\n",
       "name                                                                      \n",
       "Cheerios                                2.000000  290.000000   2.000000   \n",
       "Frosted_Mini-Wheats                     0.000000    0.000000   3.000000   \n",
       "Nutri-grain_Wheat                       0.000000  170.000000   3.000000   \n",
       "Wheaties                                1.000000  200.000000   3.000000   \n",
       "Quaker_Oat_Squares                      1.000000  135.000000   2.000000   \n",
       "Raisin_Squares                          0.000000    0.000000   2.000000   \n",
       "Shredded_Wheat                          0.000000    0.000000   3.614458   \n",
       "Shredded_Wheat_'n'Bran                  0.000000    0.000000   4.000000   \n",
       "Shredded_Wheat_spoon_size               0.000000    0.000000   3.000000   \n",
       "Maypo                                   1.000000    0.000000   0.000000   \n",
       "Double_Chex                             0.000000  190.000000   1.000000   \n",
       "Grape_Nuts_Flakes                       1.000000  140.000000   3.000000   \n",
       "Special_K                               0.000000  230.000000   1.000000   \n",
       "Strawberry_Fruit_Wheats                 0.000000   15.000000   3.000000   \n",
       "Grape-Nuts                              0.000000  170.000000   3.000000   \n",
       "Total_Whole_Grain                       1.000000  200.000000   3.000000   \n",
       "Wheat_Chex                              1.000000  230.000000   3.000000   \n",
       "Bran_Flakes                             0.000000  210.000000   5.000000   \n",
       "Mueslix_Crispy_Blend                    1.333333  100.000000   2.000000   \n",
       "Life                                    2.000000  150.000000   2.000000   \n",
       "Muesli_Raisins,_Dates,_&_Almonds        3.000000   95.000000   3.000000   \n",
       "Just_Right_Fruit_&_Nut                  0.769231  130.769231   1.538462   \n",
       "Muesli_Raisins,_Peaches,_&_Pecans       3.000000  150.000000   3.000000   \n",
       "Oatmeal_Raisin_Crisp                    1.600000  136.000000   1.200000   \n",
       "Honey_Nut_Cheerios                      1.000000  250.000000   1.500000   \n",
       "Crispy_Wheat_&_Raisins                  1.000000  140.000000   2.000000   \n",
       "Nutri-Grain_Almond-Raisin               1.503759  165.413534   2.255639   \n",
       "Clusters                                2.000000  140.000000   2.000000   \n",
       "Bran_Chex                               1.000000  200.000000   4.000000   \n",
       "Basic_4                                 1.503759  157.894737   1.503759   \n",
       "...                                          ...         ...        ...   \n",
       "Apple_Cinnamon_Cheerios                 2.000000  180.000000   1.500000   \n",
       "Fruity_Pebbles                          1.000000  135.000000   0.000000   \n",
       "Golden_Crisp                            0.000000   45.000000   0.000000   \n",
       "Golden_Grahams                          1.000000  280.000000   0.000000   \n",
       "Apple_Jacks                             0.000000  125.000000   1.000000   \n",
       "Cream_of_Wheat_(Quick)                  0.000000   80.000000   1.000000   \n",
       "Puffed_Rice                             0.000000    0.000000   0.000000   \n",
       "Puffed_Wheat                            0.000000    0.000000   2.000000   \n",
       "Rice_Krispies                           0.000000  290.000000   0.000000   \n",
       "Total_Corn_Flakes                       1.000000  200.000000   0.000000   \n",
       "Corn_Chex                               0.000000  280.000000   0.000000   \n",
       "Triples                                 1.000000  250.000000   0.000000   \n",
       "Rice_Chex                               0.000000  240.000000   0.000000   \n",
       "Just_Right_Crunchy__Nuggets             1.000000  170.000000   1.000000   \n",
       "Product_19                              0.000000  320.000000   1.000000   \n",
       "Crispix                                 0.000000  220.000000   1.000000   \n",
       "Kix                                     1.000000  260.000000   0.000000   \n",
       "Corn_Flakes                             0.000000  290.000000   1.000000   \n",
       "All-Bran_with_Extra_Fiber               0.000000  140.000000  14.000000   \n",
       "All-Bran                                1.000000  260.000000   9.000000   \n",
       "100%_Bran                               1.000000  130.000000  10.000000   \n",
       "Raisin_Nut_Bran                         2.000000  140.000000   2.500000   \n",
       "Raisin_Bran                             0.751880  157.894737   3.759398   \n",
       "Post_Nat._Raisin_Bran                   0.751880  150.375940   4.511278   \n",
       "Cracklin'_Oat_Bran                      3.000000  140.000000   4.000000   \n",
       "Fruit_&_Fibre_Dates,_Walnuts,_and_Oats  1.600000  128.000000   4.000000   \n",
       "Fruitful_Bran                           0.000000  180.451128   3.759398   \n",
       "Total_Raisin_Bran                       0.666667  126.666667   2.666667   \n",
       "Great_Grains_Pecan                      3.000000   75.000000   3.000000   \n",
       "100%_Natural_Bran                       5.000000   15.000000   2.000000   \n",
       "\n",
       "                                            carbo     sugars      potass  \\\n",
       "name                                                                       \n",
       "Cheerios                                17.000000   1.000000  105.000000   \n",
       "Frosted_Mini-Wheats                     14.000000   7.000000  100.000000   \n",
       "Nutri-grain_Wheat                       18.000000   2.000000   90.000000   \n",
       "Wheaties                                17.000000   3.000000  110.000000   \n",
       "Quaker_Oat_Squares                      14.000000   6.000000  110.000000   \n",
       "Raisin_Squares                          15.000000   6.000000  110.000000   \n",
       "Shredded_Wheat                          19.277108   0.000000  114.457831   \n",
       "Shredded_Wheat_'n'Bran                  19.000000   0.000000  140.000000   \n",
       "Shredded_Wheat_spoon_size               20.000000   0.000000  120.000000   \n",
       "Maypo                                   16.000000   3.000000   95.000000   \n",
       "Double_Chex                             18.000000   5.000000   80.000000   \n",
       "Grape_Nuts_Flakes                       15.000000   5.000000   85.000000   \n",
       "Special_K                               16.000000   3.000000   55.000000   \n",
       "Strawberry_Fruit_Wheats                 15.000000   5.000000   90.000000   \n",
       "Grape-Nuts                              17.000000   3.000000   90.000000   \n",
       "Total_Whole_Grain                       16.000000   3.000000  110.000000   \n",
       "Wheat_Chex                              17.000000   3.000000  115.000000   \n",
       "Bran_Flakes                             13.000000   5.000000  190.000000   \n",
       "Mueslix_Crispy_Blend                    11.333333   8.666667  106.666667   \n",
       "Life                                    12.000000   6.000000   95.000000   \n",
       "Muesli_Raisins,_Dates,_&_Almonds        16.000000  11.000000  170.000000   \n",
       "Just_Right_Fruit_&_Nut                  15.384615   6.923077   73.076923   \n",
       "Muesli_Raisins,_Peaches,_&_Pecans       16.000000  11.000000  170.000000   \n",
       "Oatmeal_Raisin_Crisp                    10.800000   8.000000   96.000000   \n",
       "Honey_Nut_Cheerios                      11.500000  10.000000   90.000000   \n",
       "Crispy_Wheat_&_Raisins                  11.000000  10.000000  120.000000   \n",
       "Nutri-Grain_Almond-Raisin               15.789474   5.263158   97.744361   \n",
       "Clusters                                13.000000   7.000000  105.000000   \n",
       "Bran_Chex                               15.000000   6.000000  125.000000   \n",
       "Basic_4                                 13.533835   6.015038   75.187970   \n",
       "...                                           ...        ...         ...   \n",
       "Apple_Cinnamon_Cheerios                 10.500000  10.000000   70.000000   \n",
       "Fruity_Pebbles                          13.000000  12.000000   25.000000   \n",
       "Golden_Crisp                            11.000000  15.000000   40.000000   \n",
       "Golden_Grahams                          15.000000   9.000000   45.000000   \n",
       "Apple_Jacks                             11.000000  14.000000   30.000000   \n",
       "Cream_of_Wheat_(Quick)                  21.000000   0.000000   65.113925   \n",
       "Puffed_Rice                             26.000000   0.000000   30.000000   \n",
       "Puffed_Wheat                            20.000000   0.000000  100.000000   \n",
       "Rice_Krispies                           22.000000   3.000000   35.000000   \n",
       "Total_Corn_Flakes                       21.000000   3.000000   35.000000   \n",
       "Corn_Chex                               22.000000   3.000000   25.000000   \n",
       "Triples                                 21.000000   3.000000   60.000000   \n",
       "Rice_Chex                               23.000000   2.000000   30.000000   \n",
       "Just_Right_Crunchy__Nuggets             17.000000   6.000000   60.000000   \n",
       "Product_19                              20.000000   3.000000   45.000000   \n",
       "Crispix                                 21.000000   3.000000   30.000000   \n",
       "Kix                                     21.000000   3.000000   40.000000   \n",
       "Corn_Flakes                             21.000000   2.000000   35.000000   \n",
       "All-Bran_with_Extra_Fiber                8.000000   0.000000  330.000000   \n",
       "All-Bran                                 7.000000   5.000000  320.000000   \n",
       "100%_Bran                                5.000000   6.000000  280.000000   \n",
       "Raisin_Nut_Bran                         10.500000   8.000000  140.000000   \n",
       "Raisin_Bran                             10.526316   9.022556  180.451128   \n",
       "Post_Nat._Raisin_Bran                    8.270677  10.526316  195.488722   \n",
       "Cracklin'_Oat_Bran                      10.000000   7.000000  160.000000   \n",
       "Fruit_&_Fibre_Dates,_Walnuts,_and_Oats   9.600000   8.000000  160.000000   \n",
       "Fruitful_Bran                           10.526316   9.022556  142.857143   \n",
       "Total_Raisin_Bran                       10.000000   9.333333  153.333333   \n",
       "Great_Grains_Pecan                      13.000000   4.000000  100.000000   \n",
       "100%_Natural_Bran                        8.000000   8.000000  135.000000   \n",
       "\n",
       "                                          vitamins     shelf  weight  \\\n",
       "name                                                                   \n",
       "Cheerios                                 25.000000  1.000000       1   \n",
       "Frosted_Mini-Wheats                      25.000000  2.000000       1   \n",
       "Nutri-grain_Wheat                        25.000000  3.000000       1   \n",
       "Wheaties                                 25.000000  1.000000       1   \n",
       "Quaker_Oat_Squares                       25.000000  3.000000       1   \n",
       "Raisin_Squares                           25.000000  3.000000       1   \n",
       "Shredded_Wheat                            0.000000  1.204819       1   \n",
       "Shredded_Wheat_'n'Bran                    0.000000  1.000000       1   \n",
       "Shredded_Wheat_spoon_size                 0.000000  1.000000       1   \n",
       "Maypo                                    25.000000  2.000000       1   \n",
       "Double_Chex                              25.000000  3.000000       1   \n",
       "Grape_Nuts_Flakes                        25.000000  3.000000       1   \n",
       "Special_K                                25.000000  1.000000       1   \n",
       "Strawberry_Fruit_Wheats                  25.000000  2.000000       1   \n",
       "Grape-Nuts                               25.000000  3.000000       1   \n",
       "Total_Whole_Grain                       100.000000  3.000000       1   \n",
       "Wheat_Chex                               25.000000  1.000000       1   \n",
       "Bran_Flakes                              25.000000  3.000000       1   \n",
       "Mueslix_Crispy_Blend                     16.666667  2.000000       1   \n",
       "Life                                     25.000000  2.000000       1   \n",
       "Muesli_Raisins,_Dates,_&_Almonds         25.000000  3.000000       1   \n",
       "Just_Right_Fruit_&_Nut                   76.923077  2.307692       1   \n",
       "Muesli_Raisins,_Peaches,_&_Pecans        25.000000  3.000000       1   \n",
       "Oatmeal_Raisin_Crisp                     20.000000  2.400000       1   \n",
       "Honey_Nut_Cheerios                       25.000000  1.000000       1   \n",
       "Crispy_Wheat_&_Raisins                   25.000000  3.000000       1   \n",
       "Nutri-Grain_Almond-Raisin                18.796992  2.255639       1   \n",
       "Clusters                                 25.000000  3.000000       1   \n",
       "Bran_Chex                                25.000000  1.000000       1   \n",
       "Basic_4                                  18.796992  2.255639       1   \n",
       "...                                            ...       ...     ...   \n",
       "Apple_Cinnamon_Cheerios                  25.000000  1.000000       1   \n",
       "Fruity_Pebbles                           25.000000  2.000000       1   \n",
       "Golden_Crisp                             25.000000  1.000000       1   \n",
       "Golden_Grahams                           25.000000  2.000000       1   \n",
       "Apple_Jacks                              25.000000  2.000000       1   \n",
       "Cream_of_Wheat_(Quick)                    0.000000  2.000000       1   \n",
       "Puffed_Rice                               0.000000  6.000000       1   \n",
       "Puffed_Wheat                              0.000000  6.000000       1   \n",
       "Rice_Krispies                            25.000000  1.000000       1   \n",
       "Total_Corn_Flakes                       100.000000  3.000000       1   \n",
       "Corn_Chex                                25.000000  1.000000       1   \n",
       "Triples                                  25.000000  3.000000       1   \n",
       "Rice_Chex                                25.000000  1.000000       1   \n",
       "Just_Right_Crunchy__Nuggets             100.000000  3.000000       1   \n",
       "Product_19                              100.000000  3.000000       1   \n",
       "Crispix                                  25.000000  3.000000       1   \n",
       "Kix                                      25.000000  2.000000       1   \n",
       "Corn_Flakes                              25.000000  1.000000       1   \n",
       "All-Bran_with_Extra_Fiber                25.000000  3.000000       1   \n",
       "All-Bran                                 25.000000  3.000000       1   \n",
       "100%_Bran                                25.000000  3.000000       1   \n",
       "Raisin_Nut_Bran                          25.000000  3.000000       1   \n",
       "Raisin_Bran                              18.796992  1.503759       1   \n",
       "Post_Nat._Raisin_Bran                    18.796992  2.255639       1   \n",
       "Cracklin'_Oat_Bran                       25.000000  3.000000       1   \n",
       "Fruit_&_Fibre_Dates,_Walnuts,_and_Oats   20.000000  2.400000       1   \n",
       "Fruitful_Bran                            18.796992  2.255639       1   \n",
       "Total_Raisin_Bran                        66.666667  2.000000       1   \n",
       "Great_Grains_Pecan                       25.000000  3.000000       1   \n",
       "100%_Natural_Bran                         0.000000  3.000000       1   \n",
       "\n",
       "                                            cups  Cluster_Class  \n",
       "name                                                             \n",
       "Cheerios                                1.250000              0  \n",
       "Frosted_Mini-Wheats                     0.800000              0  \n",
       "Nutri-grain_Wheat                       1.000000              0  \n",
       "Wheaties                                1.000000              0  \n",
       "Quaker_Oat_Squares                      0.500000              0  \n",
       "Raisin_Squares                          0.500000              0  \n",
       "Shredded_Wheat                          1.204819              0  \n",
       "Shredded_Wheat_'n'Bran                  0.670000              0  \n",
       "Shredded_Wheat_spoon_size               0.670000              0  \n",
       "Maypo                                   1.000000              0  \n",
       "Double_Chex                             0.750000              0  \n",
       "Grape_Nuts_Flakes                       0.880000              0  \n",
       "Special_K                               1.000000              0  \n",
       "Strawberry_Fruit_Wheats                 1.000000              0  \n",
       "Grape-Nuts                              0.250000              0  \n",
       "Total_Whole_Grain                       1.000000              0  \n",
       "Wheat_Chex                              0.670000              0  \n",
       "Bran_Flakes                             0.670000              0  \n",
       "Mueslix_Crispy_Blend                    0.446667              1  \n",
       "Life                                    0.670000              1  \n",
       "Muesli_Raisins,_Dates,_&_Almonds        1.000000              1  \n",
       "Just_Right_Fruit_&_Nut                  0.576923              1  \n",
       "Muesli_Raisins,_Peaches,_&_Pecans       1.000000              1  \n",
       "Oatmeal_Raisin_Crisp                    0.400000              1  \n",
       "Honey_Nut_Cheerios                      0.750000              1  \n",
       "Crispy_Wheat_&_Raisins                  0.750000              1  \n",
       "Nutri-Grain_Almond-Raisin               0.503759              1  \n",
       "Clusters                                0.500000              1  \n",
       "Bran_Chex                               0.670000              1  \n",
       "Basic_4                                 0.563910              1  \n",
       "...                                          ...            ...  \n",
       "Apple_Cinnamon_Cheerios                 0.750000              2  \n",
       "Fruity_Pebbles                          0.750000              2  \n",
       "Golden_Crisp                            0.880000              2  \n",
       "Golden_Grahams                          0.750000              2  \n",
       "Apple_Jacks                             1.000000              2  \n",
       "Cream_of_Wheat_(Quick)                  1.000000              3  \n",
       "Puffed_Rice                             2.000000              3  \n",
       "Puffed_Wheat                            2.000000              3  \n",
       "Rice_Krispies                           1.000000              4  \n",
       "Total_Corn_Flakes                       1.000000              4  \n",
       "Corn_Chex                               1.000000              4  \n",
       "Triples                                 0.750000              4  \n",
       "Rice_Chex                               1.130000              4  \n",
       "Just_Right_Crunchy__Nuggets             1.000000              4  \n",
       "Product_19                              1.000000              4  \n",
       "Crispix                                 1.000000              4  \n",
       "Kix                                     1.500000              4  \n",
       "Corn_Flakes                             1.000000              4  \n",
       "All-Bran_with_Extra_Fiber               0.500000              5  \n",
       "All-Bran                                0.330000              5  \n",
       "100%_Bran                               0.330000              5  \n",
       "Raisin_Nut_Bran                         0.500000              6  \n",
       "Raisin_Bran                             0.563910              6  \n",
       "Post_Nat._Raisin_Bran                   0.503759              6  \n",
       "Cracklin'_Oat_Bran                      0.500000              6  \n",
       "Fruit_&_Fibre_Dates,_Walnuts,_and_Oats  0.536000              6  \n",
       "Fruitful_Bran                           0.503759              6  \n",
       "Total_Raisin_Bran                       0.666667              6  \n",
       "Great_Grains_Pecan                      0.330000              6  \n",
       "100%_Natural_Bran                       1.000000              6  \n",
       "\n",
       "[76 rows x 15 columns]"
      ]
     },
     "execution_count": 711,
     "metadata": {},
     "output_type": "execute_result"
    }
   ],
   "source": [
    "processed_data.sort_index(ascending=True, by =['Cluster_Class'])\n"
   ]
  },
  {
   "cell_type": "code",
   "execution_count": 722,
   "metadata": {
    "collapsed": false
   },
   "outputs": [
    {
     "data": {
      "text/plain": [
       "<matplotlib.text.Text at 0x11615e550>"
      ]
     },
     "execution_count": 722,
     "metadata": {},
     "output_type": "execute_result"
    },
    {
     "data": {
      "image/png": "[encoded data removed]",
      "text/plain": [
       "<matplotlib.figure.Figure at 0x1160cc588>"
      ]
     },
     "metadata": {},
     "output_type": "display_data"
    }
   ],
   "source": [
    "processed_data[['Cluster_Class']].hist()\n",
    "plt.title(\"Cereals per cluster\")\n",
    "#Shows how many cereals are in each cluster"
   ]
  },
  {
   "cell_type": "markdown",
   "metadata": {},
   "source": [
    "Most of the cereals belong in the 2 cluster group."
   ]
  },
  {
   "cell_type": "code",
   "execution_count": 713,
   "metadata": {
    "collapsed": true
   },
   "outputs": [],
   "source": [
    "cluster0 = processed_data[processed_data.Cluster_Class == 0]\n",
    "cluster1 = processed_data[processed_data.Cluster_Class == 1]\n",
    "cluster2 = processed_data[processed_data.Cluster_Class == 2]\n",
    "cluster3 = processed_data[processed_data.Cluster_Class == 3]\n",
    "cluster4 = processed_data[processed_data.Cluster_Class == 4]\n",
    "cluster5 = processed_data[processed_data.Cluster_Class == 5]\n",
    "cluster6 = processed_data[processed_data.Cluster_Class == 6]\n",
    "\n",
    "cluster0_mean = cluster0.mean()\n",
    "cluster1_mean = cluster1.mean()\n",
    "cluster2_mean = cluster2.mean()\n",
    "cluster3_mean = cluster3.mean()\n",
    "cluster4_mean = cluster4.mean()\n",
    "cluster5_mean = cluster5.mean()\n",
    "cluster6_mean = cluster6.mean()"
   ]
  },
  {
   "cell_type": "markdown",
   "metadata": {},
   "source": [
    "These 6 bar graphs will show the mean amounts for each column name per cluster. We are able to see the differences in clusters by looking at these graphs. In general, distinguishing features are the calorie amount, sodium content, carb amount, sugar amount, potassium amount, and vitamin amount. "
   ]
  },
  {
   "cell_type": "code",
   "execution_count": 715,
   "metadata": {
    "collapsed": false
   },
   "outputs": [
    {
     "data": {
      "text/plain": [
       "<matplotlib.text.Text at 0x1158852e8>"
      ]
     },
     "execution_count": 715,
     "metadata": {},
     "output_type": "execute_result"
    },
    {
     "data": {
      "image/png": "[encoded data removed]",
      "text/plain": [
       "<matplotlib.figure.Figure at 0x1158d6e80>"
      ]
     },
     "metadata": {},
     "output_type": "display_data"
    }
   ],
   "source": [
    "cluster0_mean.plot(kind='bar')\n",
    "plt.title(\"Cluster 0\")"
   ]
  },
  {
   "cell_type": "code",
   "execution_count": 716,
   "metadata": {
    "collapsed": false
   },
   "outputs": [
    {
     "data": {
      "text/plain": [
       "<matplotlib.text.Text at 0x115aaa828>"
      ]
     },
     "execution_count": 716,
     "metadata": {},
     "output_type": "execute_result"
    },
    {
     "data": {
      "image/png": "[encoded data removed]",
      "text/plain": [
       "<matplotlib.figure.Figure at 0x115a7c438>"
      ]
     },
     "metadata": {},
     "output_type": "display_data"
    }
   ],
   "source": [
    "cluster1_mean.plot(kind='bar')\n",
    "plt.title(\"Cluster 1\")"
   ]
  },
  {
   "cell_type": "code",
   "execution_count": 717,
   "metadata": {
    "collapsed": false
   },
   "outputs": [
    {
     "data": {
      "text/plain": [
       "<matplotlib.text.Text at 0x115bc67f0>"
      ]
     },
     "execution_count": 717,
     "metadata": {},
     "output_type": "execute_result"
    },
    {
     "data": {
      "image/png": "[encoded data removed]",
      "text/plain": [
       "<matplotlib.figure.Figure at 0x114edecc0>"
      ]
     },
     "metadata": {},
     "output_type": "display_data"
    }
   ],
   "source": [
    "cluster2_mean.plot(kind='bar')\n",
    "plt.title(\"Cluster 2\")"
   ]
  },
  {
   "cell_type": "code",
   "execution_count": 718,
   "metadata": {
    "collapsed": false
   },
   "outputs": [
    {
     "data": {
      "text/plain": [
       "<matplotlib.text.Text at 0x115cfb390>"
      ]
     },
     "execution_count": 718,
     "metadata": {},
     "output_type": "execute_result"
    },
    {
     "data": {
      "image/png": "[encoded data removed]",
      "text/plain": [
       "<matplotlib.figure.Figure at 0x115c7df28>"
      ]
     },
     "metadata": {},
     "output_type": "display_data"
    }
   ],
   "source": [
    "cluster3_mean.plot(kind='bar')\n",
    "plt.title(\"Cluster 3\")"
   ]
  },
  {
   "cell_type": "code",
   "execution_count": 719,
   "metadata": {
    "collapsed": false
   },
   "outputs": [
    {
     "data": {
      "text/plain": [
       "<matplotlib.text.Text at 0x115e0dcf8>"
      ]
     },
     "execution_count": 719,
     "metadata": {},
     "output_type": "execute_result"
    },
    {
     "data": {
      "image/png": "[encoded data removed]",
      "text/plain": [
       "<matplotlib.figure.Figure at 0x115d93908>"
      ]
     },
     "metadata": {},
     "output_type": "display_data"
    }
   ],
   "source": [
    "cluster4_mean.plot(kind='bar')\n",
    "plt.title(\"Cluster 4\")"
   ]
  },
  {
   "cell_type": "code",
   "execution_count": 720,
   "metadata": {
    "collapsed": false
   },
   "outputs": [
    {
     "data": {
      "text/plain": [
       "<matplotlib.text.Text at 0x115f140f0>"
      ]
     },
     "execution_count": 720,
     "metadata": {},
     "output_type": "execute_result"
    },
    {
     "data": {
      "image/png": "[encoded data removed]",
      "text/plain": [
       "<matplotlib.figure.Figure at 0x115a7c5f8>"
      ]
     },
     "metadata": {},
     "output_type": "display_data"
    }
   ],
   "source": [
    "cluster5_mean.plot(kind='bar')\n",
    "plt.title(\"Cluster 5\")"
   ]
  },
  {
   "cell_type": "code",
   "execution_count": 721,
   "metadata": {
    "collapsed": false
   },
   "outputs": [
    {
     "data": {
      "text/plain": [
       "<matplotlib.text.Text at 0x116033278>"
      ]
     },
     "execution_count": 721,
     "metadata": {},
     "output_type": "execute_result"
    },
    {
     "data": {
      "image/png": "[encoded data removed]",
      "text/plain": [
       "<matplotlib.figure.Figure at 0x11583a6a0>"
      ]
     },
     "metadata": {},
     "output_type": "display_data"
    }
   ],
   "source": [
    "cluster6_mean.plot(kind='bar')\n",
    "plt.title(\"Cluster 6\")"
   ]
  },
  {
   "cell_type": "code",
   "execution_count": null,
   "metadata": {
    "collapsed": true
   },
   "outputs": [],
   "source": []
  }
 ],
 "metadata": {
  "kernelspec": {
   "display_name": "Python 3",
   "language": "python",
   "name": "python3"
  },
  "language_info": {
   "codemirror_mode": {
    "name": "ipython",
    "version": 3
   },
   "file_extension": ".py",
   "mimetype": "text/x-python",
   "name": "python",
   "nbconvert_exporter": "python",
   "pygments_lexer": "ipython3",
   "version": "3.4.3"
  }
 },
 "nbformat": 4,
 "nbformat_minor": 0
}
